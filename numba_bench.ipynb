{
 "cells": [
  {
   "cell_type": "markdown",
   "metadata": {},
   "source": [
    "# Numba Benchmark\n",
    "\n",
    "Useful References:\n",
    "* https://docs.python.org/2/library/timeit.html\n",
    "* https://stackoverflow.com/questions/48205956/ipython-how-to-save-timeit-values-for-each-iteration\n",
    "* http://people.duke.edu/~ccc14/sta-663-2016/18C_Numba.html#Numba-jit-version\n",
    "* https://www.geeksforgeeks.org/timeit-python-examples/\n",
    "* https://en.wikipedia.org/wiki/LLVM\n",
    "* https://numba.pydata.org/numba-doc/latest/user/generated-jit.html\n",
    "* https://realpython.com/primer-on-python-decorators/#fancy-decorators"
   ]
  },
  {
   "cell_type": "code",
   "execution_count": 71,
   "metadata": {},
   "outputs": [],
   "source": [
    "# Imports\n",
    "import time\n",
    "import timeit\n",
    "import numpy as np\n",
    "import matplotlib.pyplot as plt\n",
    "from numpy.testing import assert_almost_equal\n",
    "from numba import jit"
   ]
  },
  {
   "cell_type": "markdown",
   "metadata": {},
   "source": [
    "## Matrix Multiplication"
   ]
  },
  {
   "cell_type": "code",
   "execution_count": 72,
   "metadata": {},
   "outputs": [],
   "source": [
    "A = np.random.random((100, 50))\n",
    "B = np.random.random((50, 60))"
   ]
  },
  {
   "cell_type": "code",
   "execution_count": 73,
   "metadata": {},
   "outputs": [
    {
     "name": "stdout",
     "output_type": "stream",
     "text": [
      "18.6 µs ± 490 ns per loop (mean ± std. dev. of 7 runs, 100000 loops each)\n"
     ]
    }
   ],
   "source": [
    "# Numpy Approach\n",
    "def matrix_multiply_numpy(A, B):\n",
    "    C = A.dot(B)\n",
    "    return C\n",
    "\n",
    "%timeit -n100000 -c matrix_multiply_numpy(A, B)"
   ]
  },
  {
   "cell_type": "code",
   "execution_count": 74,
   "metadata": {},
   "outputs": [
    {
     "name": "stdout",
     "output_type": "stream",
     "text": [
      "19.3 µs ± 912 ns per loop (mean ± std. dev. of 7 runs, 100000 loops each)\n"
     ]
    }
   ],
   "source": [
    "# Numba Approach\n",
    "@jit()\n",
    "def matrix_multiply_numba(A, B):\n",
    "    C = A.dot(B)\n",
    "    return C\n",
    "\n",
    "%timeit -n100000 -c matrix_multiply_numba(A, B)"
   ]
  },
  {
   "cell_type": "markdown",
   "metadata": {},
   "source": [
    "## Matrix Addition"
   ]
  },
  {
   "cell_type": "code",
   "execution_count": 75,
   "metadata": {},
   "outputs": [],
   "source": [
    "A = np.random.rand(300, 300)\n",
    "B = np.random.rand(300, 300)"
   ]
  },
  {
   "cell_type": "code",
   "execution_count": 76,
   "metadata": {},
   "outputs": [
    {
     "name": "stdout",
     "output_type": "stream",
     "text": [
      "50.1 µs ± 2 µs per loop (mean ± std. dev. of 7 runs, 10000 loops each)\n"
     ]
    }
   ],
   "source": [
    "def matrix_addition_numpy(A, B):\n",
    "    C = np.add(A, B)\n",
    "    return C\n",
    "\n",
    "%timeit -n10000 -c matrix_addition_numpy(A, B)"
   ]
  },
  {
   "cell_type": "code",
   "execution_count": 77,
   "metadata": {},
   "outputs": [
    {
     "name": "stdout",
     "output_type": "stream",
     "text": [
      "95 µs ± 6.57 µs per loop (mean ± std. dev. of 7 runs, 10000 loops each)\n"
     ]
    }
   ],
   "source": [
    "@jit\n",
    "def matrix_addition_numba(A, B):\n",
    "    C = np.add(A, B)\n",
    "    return C\n",
    "\n",
    "%timeit -n10000 -c matrix_addition_numba(A, B)"
   ]
  },
  {
   "cell_type": "code",
   "execution_count": null,
   "metadata": {},
   "outputs": [],
   "source": []
  },
  {
   "cell_type": "code",
   "execution_count": null,
   "metadata": {},
   "outputs": [],
   "source": []
  }
 ],
 "metadata": {
  "kernelspec": {
   "display_name": "Python 3",
   "language": "python",
   "name": "python3"
  },
  "language_info": {
   "codemirror_mode": {
    "name": "ipython",
    "version": 3
   },
   "file_extension": ".py",
   "mimetype": "text/x-python",
   "name": "python",
   "nbconvert_exporter": "python",
   "pygments_lexer": "ipython3",
   "version": "3.6.8"
  }
 },
 "nbformat": 4,
 "nbformat_minor": 2
}
